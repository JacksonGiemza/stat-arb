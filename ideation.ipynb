{
 "cells": [
  {
   "cell_type": "code",
   "execution_count": 16,
   "metadata": {},
   "outputs": [
    {
     "name": "stdout",
     "output_type": "stream",
     "text": [
      "Collecting alpaca-pyNote: you may need to restart the kernel to use updated packages.\n",
      "\n",
      "  Downloading alpaca_py-0.39.0-py3-none-any.whl.metadata (13 kB)\n",
      "Requirement already satisfied: msgpack<2.0.0,>=1.0.3 in c:\\users\\jacks\\anaconda3\\lib\\site-packages (from alpaca-py) (1.0.3)\n",
      "Requirement already satisfied: pandas>=1.5.3 in c:\\users\\jacks\\anaconda3\\lib\\site-packages (from alpaca-py) (2.2.2)\n",
      "Collecting pydantic<3.0.0,>=2.0.3 (from alpaca-py)\n",
      "  Downloading pydantic-2.10.6-py3-none-any.whl.metadata (30 kB)\n",
      "Requirement already satisfied: requests<3.0.0,>=2.30.0 in c:\\users\\jacks\\anaconda3\\lib\\site-packages (from alpaca-py) (2.32.2)\n",
      "Collecting sseclient-py<2.0.0,>=1.7.2 (from alpaca-py)\n",
      "  Downloading sseclient_py-1.8.0-py2.py3-none-any.whl.metadata (2.0 kB)\n",
      "Collecting websockets>=10.4 (from alpaca-py)\n",
      "  Downloading websockets-15.0-cp312-cp312-win_amd64.whl.metadata (7.0 kB)\n",
      "Requirement already satisfied: numpy>=1.26.0 in c:\\users\\jacks\\anaconda3\\lib\\site-packages (from pandas>=1.5.3->alpaca-py) (1.26.3)\n",
      "Requirement already satisfied: python-dateutil>=2.8.2 in c:\\users\\jacks\\anaconda3\\lib\\site-packages (from pandas>=1.5.3->alpaca-py) (2.9.0.post0)\n",
      "Requirement already satisfied: pytz>=2020.1 in c:\\users\\jacks\\anaconda3\\lib\\site-packages (from pandas>=1.5.3->alpaca-py) (2024.1)\n",
      "Requirement already satisfied: tzdata>=2022.7 in c:\\users\\jacks\\anaconda3\\lib\\site-packages (from pandas>=1.5.3->alpaca-py) (2023.3)\n",
      "Requirement already satisfied: annotated-types>=0.6.0 in c:\\users\\jacks\\anaconda3\\lib\\site-packages (from pydantic<3.0.0,>=2.0.3->alpaca-py) (0.6.0)\n",
      "Collecting pydantic-core==2.27.2 (from pydantic<3.0.0,>=2.0.3->alpaca-py)\n",
      "  Downloading pydantic_core-2.27.2-cp312-cp312-win_amd64.whl.metadata (6.7 kB)\n",
      "Requirement already satisfied: typing-extensions>=4.12.2 in c:\\users\\jacks\\anaconda3\\lib\\site-packages (from pydantic<3.0.0,>=2.0.3->alpaca-py) (4.12.2)\n",
      "Requirement already satisfied: charset-normalizer<4,>=2 in c:\\users\\jacks\\anaconda3\\lib\\site-packages (from requests<3.0.0,>=2.30.0->alpaca-py) (2.0.4)\n",
      "Requirement already satisfied: idna<4,>=2.5 in c:\\users\\jacks\\anaconda3\\lib\\site-packages (from requests<3.0.0,>=2.30.0->alpaca-py) (3.7)\n",
      "Requirement already satisfied: urllib3<3,>=1.21.1 in c:\\users\\jacks\\anaconda3\\lib\\site-packages (from requests<3.0.0,>=2.30.0->alpaca-py) (2.2.2)\n",
      "Requirement already satisfied: certifi>=2017.4.17 in c:\\users\\jacks\\anaconda3\\lib\\site-packages (from requests<3.0.0,>=2.30.0->alpaca-py) (2024.7.4)\n",
      "Requirement already satisfied: six>=1.5 in c:\\users\\jacks\\anaconda3\\lib\\site-packages (from python-dateutil>=2.8.2->pandas>=1.5.3->alpaca-py) (1.16.0)\n",
      "Downloading alpaca_py-0.39.0-py3-none-any.whl (121 kB)\n",
      "Downloading pydantic-2.10.6-py3-none-any.whl (431 kB)\n",
      "Downloading pydantic_core-2.27.2-cp312-cp312-win_amd64.whl (2.0 MB)\n",
      "   ---------------------------------------- 0.0/2.0 MB ? eta -:--:--\n",
      "   ---------------------------------------- 2.0/2.0 MB 55.7 MB/s eta 0:00:00\n",
      "Downloading sseclient_py-1.8.0-py2.py3-none-any.whl (8.8 kB)\n",
      "Downloading websockets-15.0-cp312-cp312-win_amd64.whl (176 kB)\n",
      "Installing collected packages: sseclient-py, websockets, pydantic-core, pydantic, alpaca-py\n",
      "  Attempting uninstall: pydantic-core\n",
      "    Found existing installation: pydantic_core 2.14.6\n",
      "    Uninstalling pydantic_core-2.14.6:\n",
      "      Successfully uninstalled pydantic_core-2.14.6\n",
      "  Attempting uninstall: pydantic\n",
      "    Found existing installation: pydantic 1.10.21\n",
      "    Uninstalling pydantic-1.10.21:\n",
      "      Successfully uninstalled pydantic-1.10.21\n",
      "Successfully installed alpaca-py-0.39.0 pydantic-2.10.6 pydantic-core-2.27.2 sseclient-py-1.8.0 websockets-15.0\n"
     ]
    },
    {
     "name": "stderr",
     "output_type": "stream",
     "text": [
      "\n",
      "[notice] A new release of pip is available: 25.0 -> 25.0.1\n",
      "[notice] To update, run: python.exe -m pip install --upgrade pip\n"
     ]
    }
   ],
   "source": [
    "pip install alpaca-py\n"
   ]
  }
 ],
 "metadata": {
  "kernelspec": {
   "display_name": "base",
   "language": "python",
   "name": "python3"
  },
  "language_info": {
   "codemirror_mode": {
    "name": "ipython",
    "version": 3
   },
   "file_extension": ".py",
   "mimetype": "text/x-python",
   "name": "python",
   "nbconvert_exporter": "python",
   "pygments_lexer": "ipython3",
   "version": "3.12.4"
  }
 },
 "nbformat": 4,
 "nbformat_minor": 2
}
